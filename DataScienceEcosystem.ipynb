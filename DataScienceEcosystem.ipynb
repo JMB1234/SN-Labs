{
 "cells": [
  {
   "cell_type": "markdown",
   "id": "0499d591",
   "metadata": {},
   "source": [
    "# Data Science Tools and Ecosystem"
   ]
  },
  {
   "cell_type": "markdown",
   "id": "ba5e908a",
   "metadata": {},
   "source": [
    "## Author\n",
    "Julie Bloxson"
   ]
  },
  {
   "cell_type": "markdown",
   "id": "48b82b80",
   "metadata": {},
   "source": [
    "In this notebook, we will summarize Data Science Tools and Ecosystem."
   ]
  },
  {
   "cell_type": "markdown",
   "id": "e39b2899",
   "metadata": {},
   "source": [
    "**Objectives**"
   ]
  },
  {
   "cell_type": "markdown",
   "id": "5f50d188",
   "metadata": {},
   "source": [
    "* List popular languages in Data Science\n",
    "* List commonly used libraries in Data Science\n",
    "* List commonly used open-source IDEs in Data Science\n",
    "* Create basic mathematical expressions"
   ]
  },
  {
   "cell_type": "markdown",
   "id": "61bfe5db",
   "metadata": {},
   "source": [
    "Some of the popular languages that Data Scientists use are:"
   ]
  },
  {
   "cell_type": "markdown",
   "id": "c2d4215a",
   "metadata": {},
   "source": [
    "1. python\n",
    "1. r\n",
    "1. sql\n",
    "1. java\n",
    "1. scala\n",
    "1. c/c++\n",
    "1. matlab\n",
    "1. sas"
   ]
  },
  {
   "cell_type": "markdown",
   "id": "d1a907e1",
   "metadata": {},
   "source": [
    "Some of the commonly used libraries used by Data Scientists include:"
   ]
  },
  {
   "cell_type": "markdown",
   "id": "41831b36",
   "metadata": {},
   "source": [
    "1. numpy\n",
    "1. scikit-learn\n",
    "1. matplotlib\n",
    "1. scipy\n",
    "1. tensorflow\n",
    "1. keras\n",
    "1. seaborn\n",
    "1. pytorch\n",
    "1. plotly"
   ]
  },
  {
   "cell_type": "markdown",
   "id": "761e587b",
   "metadata": {},
   "source": [
    "| Open Source IDEs | \n",
    "| :----------------: |\n",
    "|Jupyter | \n",
    "| R | \n",
    "| Eclipse | \n"
   ]
  },
  {
   "cell_type": "markdown",
   "id": "9f123ff4",
   "metadata": {},
   "source": [
    "### Below are a few examples of evaluting arithmetic expressions in Python"
   ]
  },
  {
   "cell_type": "markdown",
   "id": "2554defe",
   "metadata": {},
   "source": [
    "This is a simple arithmetic expression to multiply then add integers"
   ]
  },
  {
   "cell_type": "code",
   "execution_count": 3,
   "id": "0f9f7d8d",
   "metadata": {},
   "outputs": [
    {
     "data": {
      "text/plain": [
       "17"
      ]
     },
     "execution_count": 3,
     "metadata": {},
     "output_type": "execute_result"
    }
   ],
   "source": [
    "(3*4)+5"
   ]
  },
  {
   "cell_type": "markdown",
   "id": "31f23505",
   "metadata": {},
   "source": [
    "This will convert 200 minutes into hours by dividing by 60"
   ]
  },
  {
   "cell_type": "code",
   "execution_count": 4,
   "id": "12f22c2e",
   "metadata": {},
   "outputs": [
    {
     "data": {
      "text/plain": [
       "3.3333333333333335"
      ]
     },
     "execution_count": 4,
     "metadata": {},
     "output_type": "execute_result"
    }
   ],
   "source": [
    "200/60"
   ]
  },
  {
   "cell_type": "code",
   "execution_count": null,
   "id": "716573d2",
   "metadata": {},
   "outputs": [],
   "source": []
  }
 ],
 "metadata": {
  "kernelspec": {
   "display_name": "Python 3 (ipykernel)",
   "language": "python",
   "name": "python3"
  },
  "language_info": {
   "codemirror_mode": {
    "name": "ipython",
    "version": 3
   },
   "file_extension": ".py",
   "mimetype": "text/x-python",
   "name": "python",
   "nbconvert_exporter": "python",
   "pygments_lexer": "ipython3",
   "version": "3.11.7"
  }
 },
 "nbformat": 4,
 "nbformat_minor": 5
}
